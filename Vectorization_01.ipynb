{
  "nbformat": 4,
  "nbformat_minor": 0,
  "metadata": {
    "colab": {
      "provenance": [],
      "authorship_tag": "ABX9TyP0lXEsE6brBpipU53QEoud",
      "include_colab_link": true
    },
    "kernelspec": {
      "name": "python3",
      "display_name": "Python 3"
    },
    "language_info": {
      "name": "python"
    }
  },
  "cells": [
    {
      "cell_type": "markdown",
      "metadata": {
        "id": "view-in-github",
        "colab_type": "text"
      },
      "source": [
        "<a href=\"https://colab.research.google.com/github/mashaan14/python-tutorials/blob/main/Vectorization_01.ipynb\" target=\"_parent\"><img src=\"https://colab.research.google.com/assets/colab-badge.svg\" alt=\"Open In Colab\"/></a>"
      ]
    },
    {
      "cell_type": "markdown",
      "source": [
        "# Vectorization in Python\n",
        "Vectorization refers to the style of coding where operations are applied to the whole array instead of individual elements. You can read more about vectorization on this link __[this link](https://en.wikipedia.org/wiki/Array_programming)__. This example shows a vectorized way on how to compute the distance from points to the centroids in $k$-means clustering.\n",
        "\n",
        "For any questions about this notebook, please email me on __[mashaan.awad@outlook.com](mailto:mashaan.awad@outlook.com)__"
      ],
      "metadata": {
        "id": "8XhpxbEHxrrW"
      }
    },
    {
      "cell_type": "markdown",
      "source": [
        "## $k$-means clustering\n",
        "$k$-means clustering attempts to minimize the distance between the points and the centroids. Let's create a set of 2D points and select the initial locations for the centroids."
      ],
      "metadata": {
        "id": "z_HmYwXCx3xv"
      }
    },
    {
      "cell_type": "code",
      "source": [
        "import numpy as np\n",
        "import pandas as pd\n",
        "from matplotlib import pyplot as plt\n",
        "from sklearn.datasets import make_blobs\n",
        "from sklearn.cluster import KMeans"
      ],
      "metadata": {
        "id": "8BaZ-Ogdx6Me"
      },
      "execution_count": null,
      "outputs": []
    },
    {
      "cell_type": "code",
      "source": [
        "X, y = make_blobs(n_samples=100, centers=4, cluster_std=0.60, random_state=0)\n",
        "plt.scatter(X[:,0], X[:,1]);\n",
        "plt.tick_params(axis='both',which='both',bottom=False,top=False,left=False,right=False,\n",
        "                labelbottom=False,labeltop=False,labelleft=False,labelright=False);"
      ],
      "metadata": {
        "colab": {
          "base_uri": "https://localhost:8080/",
          "height": 406
        },
        "id": "amiV2IvwkFu1",
        "outputId": "4bb6af9d-3fc8-44e1-e70f-47f3e2f4a239"
      },
      "execution_count": null,
      "outputs": [
        {
          "output_type": "display_data",
          "data": {
            "text/plain": [
              "<Figure size 640x480 with 1 Axes>"
            ],
            "image/png": "[encoded data removed]"
          },
          "metadata": {}
        }
      ]
    },
    {
      "cell_type": "markdown",
      "source": [
        "I'll run $k$-means for one iteration just to get the centroids initialized using $k$-means++"
      ],
      "metadata": {
        "id": "L9I3d19KyCi8"
      }
    },
    {
      "cell_type": "code",
      "source": [
        "kmeans = KMeans(n_clusters=4, init='k-means++', max_iter=1, n_init=10)\n",
        "kmeans.fit(X)\n",
        "kmeans.cluster_centers_"
      ],
      "metadata": {
        "colab": {
          "base_uri": "https://localhost:8080/"
        },
        "id": "BlqYXT48yRTH",
        "outputId": "bd716d84-7b38-4221-dd76-4a3a3017f990"
      },
      "execution_count": null,
      "outputs": [
        {
          "output_type": "execute_result",
          "data": {
            "text/plain": [
              "array([[ 0.83044547,  4.27831711],\n",
              "       [-1.27208964,  7.74944718],\n",
              "       [ 1.97918933,  0.97920012],\n",
              "       [-1.5772186 ,  3.11456071]])"
            ]
          },
          "metadata": {},
          "execution_count": 3
        }
      ]
    },
    {
      "cell_type": "markdown",
      "source": [
        "Here are the $k$-means centroids compared to the rest of the dataset"
      ],
      "metadata": {
        "id": "YAw-ol1VyWJ7"
      }
    },
    {
      "cell_type": "code",
      "source": [
        "C = kmeans.cluster_centers_\n",
        "plt.scatter(X[:,0], X[:,1]);\n",
        "plt.scatter(C[:,0], C[:,1], s=100);\n",
        "plt.tick_params(axis='both',which='both',bottom=False,top=False,left=False,right=False,\n",
        "                labelbottom=False,labeltop=False,labelleft=False,labelright=False);"
      ],
      "metadata": {
        "colab": {
          "base_uri": "https://localhost:8080/",
          "height": 406
        },
        "id": "Rb3eACOFyW6k",
        "outputId": "f60b2c8c-cf59-494d-9487-48ce5b1c0b90"
      },
      "execution_count": null,
      "outputs": [
        {
          "output_type": "display_data",
          "data": {
            "text/plain": [
              "<Figure size 640x480 with 1 Axes>"
            ],
            "image/png": "[encoded data removed]"
          },
          "metadata": {}
        }
      ]
    },
    {
      "cell_type": "markdown",
      "source": [
        "So, we got a 100 2D points and 4 centroids\n"
      ],
      "metadata": {
        "id": "T8yXDaLm9TPc"
      }
    },
    {
      "cell_type": "code",
      "source": [
        "X.shape"
      ],
      "metadata": {
        "colab": {
          "base_uri": "https://localhost:8080/"
        },
        "id": "pPK6t_Oc2Bid",
        "outputId": "04f5df9e-a8ab-4cfc-b7c2-76991d88922f"
      },
      "execution_count": null,
      "outputs": [
        {
          "output_type": "execute_result",
          "data": {
            "text/plain": [
              "(100, 2)"
            ]
          },
          "metadata": {},
          "execution_count": 5
        }
      ]
    },
    {
      "cell_type": "code",
      "source": [
        "C.shape"
      ],
      "metadata": {
        "colab": {
          "base_uri": "https://localhost:8080/"
        },
        "id": "P4046lGc9sqy",
        "outputId": "93d80bab-f727-4e92-923c-d79649b26f41"
      },
      "execution_count": null,
      "outputs": [
        {
          "output_type": "execute_result",
          "data": {
            "text/plain": [
              "(4, 2)"
            ]
          },
          "metadata": {},
          "execution_count": 6
        }
      ]
    },
    {
      "cell_type": "markdown",
      "source": [
        "## Computing the distance in a non-vectorized way\n",
        "Here's the formula for the Euclidean distance:\n",
        "\n",
        "$d(x,c) = \\sqrt{\\sum_{i=1}^{n}{(x_i-c_i)}^2}$\n",
        "\n",
        "Nested for loops can be used to compute the distance between $X$ and $C$"
      ],
      "metadata": {
        "id": "AcEnT2ND91sm"
      }
    },
    {
      "cell_type": "code",
      "source": [
        "D1 = np.zeros((X.shape[0], C.shape[0]))"
      ],
      "metadata": {
        "id": "SgWBU1GPG5ta"
      },
      "execution_count": null,
      "outputs": []
    },
    {
      "cell_type": "code",
      "source": [
        "%%timeit\n",
        "for i in range(X.shape[0]):\n",
        "  for j in range(C.shape[0]):\n",
        "    D1[i,j] = np.sqrt(np.sum(np.square(X[i,:] - C[j,:])))"
      ],
      "metadata": {
        "colab": {
          "base_uri": "https://localhost:8080/"
        },
        "id": "YASXklb1HsKw",
        "outputId": "732d4b27-9264-40fd-9220-3608e5adb592"
      },
      "execution_count": null,
      "outputs": [
        {
          "output_type": "stream",
          "name": "stdout",
          "text": [
            "3.81 ms ± 857 µs per loop (mean ± std. dev. of 7 runs, 100 loops each)\n"
          ]
        }
      ]
    },
    {
      "cell_type": "markdown",
      "source": [
        "So it takes almost $3.8\\ ms$ to complete the nested loops."
      ],
      "metadata": {
        "id": "gDN1GNOGJv_n"
      }
    },
    {
      "cell_type": "code",
      "source": [
        "D1[:5, :]"
      ],
      "metadata": {
        "colab": {
          "base_uri": "https://localhost:8080/"
        },
        "id": "UjQFS6OvJJ53",
        "outputId": "02915c0b-92e4-404b-d022-b3c180273205"
      },
      "execution_count": null,
      "outputs": [
        {
          "output_type": "execute_result",
          "data": {
            "text/plain": [
              "array([[0.70155255, 4.58551265, 2.92559024, 2.29787908],\n",
              "       [4.68684888, 0.79117618, 8.0781447 , 4.90153191],\n",
              "       [0.61044251, 4.32339337, 3.4412313 , 3.26404638],\n",
              "       [0.34743575, 3.98023223, 3.66620433, 3.00152343],\n",
              "       [1.15728608, 4.04237873, 4.05466745, 3.80600139]])"
            ]
          },
          "metadata": {},
          "execution_count": 9
        }
      ]
    },
    {
      "cell_type": "markdown",
      "source": [
        "## Computing the distance in a vectorized way\n",
        "Vectorizing the distance computation is done by stretching both arrays $X$ and $C$ to a new third dimension. The array $X$ is stretched along the $x$ and $z$ dimensions, and $C$ will stretch along $y$ and $z$. So when we accumulate along the $z$ dimension we will get the distance matrix $D$ along $x$ and $y$ dimensions."
      ],
      "metadata": {
        "id": "u4yiW_eACQNA"
      }
    },
    {
      "cell_type": "code",
      "source": [
        "%%timeit\n",
        "D2 = np.sqrt(np.square(X[:, None, :] - C[None, :, :]).sum(axis=-1))"
      ],
      "metadata": {
        "colab": {
          "base_uri": "https://localhost:8080/"
        },
        "id": "acYsTXSL-Oe1",
        "outputId": "e0d2057e-2505-4261-c7ea-e85711bb3d16"
      },
      "execution_count": null,
      "outputs": [
        {
          "output_type": "stream",
          "name": "stdout",
          "text": [
            "73.1 µs ± 25.2 µs per loop (mean ± std. dev. of 7 runs, 10000 loops each)\n"
          ]
        }
      ]
    },
    {
      "cell_type": "markdown",
      "source": [
        "Using vectorization it takes only $73\\ \\mu s$. This is a huge reduction, we're not using milliseconds anymore."
      ],
      "metadata": {
        "id": "-OPdLyQ0KAw4"
      }
    },
    {
      "cell_type": "code",
      "source": [
        "D2 = np.sqrt(np.square(X[:, None, :] - C[None, :, :]).sum(axis=-1))\n",
        "D2[:5, :]"
      ],
      "metadata": {
        "colab": {
          "base_uri": "https://localhost:8080/"
        },
        "id": "in0Mn_34Elm_",
        "outputId": "5f29a0ab-89c8-408b-d825-3e401b0a8f52"
      },
      "execution_count": null,
      "outputs": [
        {
          "output_type": "execute_result",
          "data": {
            "text/plain": [
              "array([[0.70155255, 4.58551265, 2.92559024, 2.29787908],\n",
              "       [4.68684888, 0.79117618, 8.0781447 , 4.90153191],\n",
              "       [0.61044251, 4.32339337, 3.4412313 , 3.26404638],\n",
              "       [0.34743575, 3.98023223, 3.66620433, 3.00152343],\n",
              "       [1.15728608, 4.04237873, 4.05466745, 3.80600139]])"
            ]
          },
          "metadata": {},
          "execution_count": 11
        }
      ]
    },
    {
      "cell_type": "markdown",
      "source": [
        "Let's check if $D$ is accurate or not. The first point has the smallest distance to the first centroid. Plotting the first point in green and the first centroid in black. They look close."
      ],
      "metadata": {
        "id": "BVfzFYqvDj_Q"
      }
    },
    {
      "cell_type": "code",
      "source": [
        "plt.scatter(X[:,0], X[:,1]);\n",
        "plt.scatter(C[:,0], C[:,1], s=100);\n",
        "plt.scatter(X[0,0], X[0,1], s=100, marker='s');\n",
        "plt.scatter(C[0,0], C[0,1], s=100, c='#000000');\n",
        "plt.tick_params(axis='both',which='both',bottom=False,top=False,left=False,right=False,\n",
        "                labelbottom=False,labeltop=False,labelleft=False,labelright=False);"
      ],
      "metadata": {
        "colab": {
          "base_uri": "https://localhost:8080/",
          "height": 406
        },
        "id": "waVuQy_6Adac",
        "outputId": "e62f77c3-c14e-4ef0-893d-225e9186eaaa"
      },
      "execution_count": null,
      "outputs": [
        {
          "output_type": "display_data",
          "data": {
            "text/plain": [
              "<Figure size 640x480 with 1 Axes>"
            ],
            "image/png": "[encoded data removed]"
          },
          "metadata": {}
        }
      ]
    },
    {
      "cell_type": "markdown",
      "source": [
        "Let's check the second point which looks closer to the second centroid."
      ],
      "metadata": {
        "id": "7cicbHnfEKKl"
      }
    },
    {
      "cell_type": "code",
      "source": [
        "plt.scatter(X[:,0], X[:,1]);\n",
        "plt.scatter(C[:,0], C[:,1], s=100);\n",
        "plt.scatter(X[1,0], X[1,1], s=100, marker='s');\n",
        "plt.scatter(C[1,0], C[1,1], s=100, c='#000000');\n",
        "plt.tick_params(axis='both',which='both',bottom=False,top=False,left=False,right=False,\n",
        "                labelbottom=False,labeltop=False,labelleft=False,labelright=False);"
      ],
      "metadata": {
        "colab": {
          "base_uri": "https://localhost:8080/",
          "height": 406
        },
        "id": "WLDhzPfEESZw",
        "outputId": "915b368b-be57-4c95-f33d-3c36d2769efe"
      },
      "execution_count": null,
      "outputs": [
        {
          "output_type": "display_data",
          "data": {
            "text/plain": [
              "<Figure size 640x480 with 1 Axes>"
            ],
            "image/png": "[encoded data removed]"
          },
          "metadata": {}
        }
      ]
    },
    {
      "cell_type": "markdown",
      "source": [
        "Yes, they look close!!"
      ],
      "metadata": {
        "id": "Cfk4kMcLEYqP"
      }
    },
    {
      "cell_type": "code",
      "source": [
        "!jupyter nbconvert --to html /content/Vectorization_01.ipynb"
      ],
      "metadata": {
        "colab": {
          "base_uri": "https://localhost:8080/"
        },
        "id": "C1uhDaU9lNew",
        "outputId": "8498a755-4a24-4082-b7aa-1bcdcbbe4d8d"
      },
      "execution_count": null,
      "outputs": [
        {
          "output_type": "stream",
          "name": "stdout",
          "text": [
            "[NbConvertApp] Converting notebook /content/Vectorization_01.ipynb to html\n",
            "[NbConvertApp] Writing 660485 bytes to /content/Vectorization_01.html\n"
          ]
        }
      ]
    }
  ]
}